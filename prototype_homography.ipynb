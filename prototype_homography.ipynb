{
 "cells": [
  {
   "cell_type": "markdown",
   "metadata": {},
   "source": [
    "Note: This file was used to prototype the math for the homography estimation. Feel free to explore the notebook but there won't be any documentation"
   ]
  },
  {
   "cell_type": "code",
   "execution_count": 133,
   "metadata": {},
   "outputs": [],
   "source": [
    "import numpy as np\n",
    "import matplotlib.pyplot as plt\n",
    "\n",
    "\n",
    "class Point:\n",
    "\n",
    "    def __init__(self,x,y):\n",
    "        self.x = x\n",
    "        self.y = y\n",
    "\n",
    "# projectinion points a -> b\n",
    "#a1 = np.array(0,0)\n",
    "#a2 = np.array(1,4)\n",
    "#a3 = np.array(2,4)\n",
    "#a4 = np.array(3,0)\n",
    "\n",
    "#b1 = np.array(0,0)\n",
    "#b2 = np.array(0,3)\n",
    "#b3 = np.array(3,3)\n",
    "#b4 = np.array(3,0)\n",
    "\n",
    "a1 = Point(0,0)\n",
    "a2 = Point(1,4)\n",
    "a3 = Point(2,4)\n",
    "a4 = Point(3,0)\n",
    "\n",
    "b1 = Point(0,0)\n",
    "b2 = Point(0,3)\n",
    "b3 = Point(3,3)\n",
    "b4 = Point(3,0)"
   ]
  },
  {
   "cell_type": "markdown",
   "metadata": {},
   "source": [
    "## Strat 1: not using"
   ]
  },
  {
   "cell_type": "code",
   "execution_count": 47,
   "metadata": {},
   "outputs": [
    {
     "name": "stdout",
     "output_type": "stream",
     "text": [
      "[[ 0  0 -1  0  0  0  0  0  0]\n",
      " [ 0  0  0  0  0 -1  0  0  0]\n",
      " [-1 -4 -1  0  0  0  0  0  0]\n",
      " [ 0  0  0 -1 -4 -1  3 12  3]\n",
      " [-2 -4 -1  0  0  0  6 12  3]\n",
      " [ 0  0  0 -2 -4 -1  6 12  3]\n",
      " [-3  0 -1  0  0  0  9  0  3]\n",
      " [ 0  0  0 -3  0 -1  0  0  0]]\n"
     ]
    }
   ],
   "source": [
    "P = np.mat([[-a1.x,-a1.y,-1,0,0,0, a1.x*b1.x, a1.y*b1.x, b1.x],\n",
    "            [0,0,0,-a1.x,-a1.y,-1, a1.x*b1.y, a1.y*b1.y, b1.y],\n",
    "            [-a2.x,-a2.y,-1,0,0,0, a2.x*b2.x, a2.y*b2.x, b2.x],\n",
    "            [0,0,0,-a2.x,-a2.y,-1, a2.x*b2.y, a2.y*b2.y, b2.y],\n",
    "            [-a3.x,-a3.y,-1,0,0,0, a3.x*b3.x, a3.y*b3.x, b3.x],\n",
    "            [0,0,0,-a3.x,-a3.y,-1, a3.x*b3.y, a3.y*b3.y, b3.y],\n",
    "            [-a4.x,-a4.y,-1,0,0,0, a4.x*b4.x, a4.y*b4.x, b4.x],\n",
    "            [0,0,0,-a4.x,-a4.y,-1, a4.x*b4.y, a4.y*b4.y, b4.y]\n",
    "            ])\n",
    "print(P)"
   ]
  },
  {
   "cell_type": "code",
   "execution_count": 58,
   "metadata": {},
   "outputs": [
    {
     "name": "stdout",
     "output_type": "stream",
     "text": [
      "[[0.]]\n",
      "[[0.6815542]]\n",
      "[[1]]\n",
      "[[4]]\n"
     ]
    },
    {
     "data": {
      "image/png": "[encoded data removed]",
      "text/plain": [
       "<Figure size 432x288 with 1 Axes>"
      ]
     },
     "metadata": {
      "needs_background": "light"
     },
     "output_type": "display_data"
    }
   ],
   "source": [
    "\n",
    "svd = np.linalg.svd(P)\n",
    "\n",
    "v = np.reshape(svd[2][-1],(3,3))\n",
    "\n",
    "x = np.mat([1,4,1]).reshape((3,1))\n",
    "\n",
    "\n",
    "result = np.matmul(v,x)\n",
    "\n",
    "#P = np.matmul(np.transpose(P),P)\n",
    "#eig_vals = np.linalg.eig(P)\n",
    "#print(P)\n",
    "#last_eig = eig_vals[1][-1]\n",
    "#last_eig = np.reshape(last_eig,(3,3))\n",
    "\n",
    "# = np.mat([1,4,1]).reshape((3,1))\n",
    "\n",
    "#result = np.matmul(last_eig,x)\n",
    "\n",
    "print(result[0])\n",
    "print(result[1])\n",
    "\n",
    "print(x[0])\n",
    "print(x[1])\n",
    "\n",
    "\n",
    "fig = plt.figure()\n",
    "\n",
    "plt.plot(result[0],result[1],'ro') \n",
    "plt.plot(x[0],x[1],'bo') \n",
    "\n",
    "\n",
    "plt.show()\n",
    "\n"
   ]
  },
  {
   "cell_type": "code",
   "execution_count": null,
   "metadata": {},
   "outputs": [],
   "source": [
    "import matplotlib.pyplot as plt\n"
   ]
  },
  {
   "cell_type": "markdown",
   "metadata": {},
   "source": [
    "## Strat 2: Using"
   ]
  },
  {
   "cell_type": "code",
   "execution_count": 134,
   "metadata": {},
   "outputs": [
    {
     "name": "stdout",
     "output_type": "stream",
     "text": [
      "[[ 0  0 -1  0  0  0  0  0  0]\n",
      " [ 0  0  0  0  0 -1  0  0  0]\n",
      " [-1 -4 -1  0  0  0  0  0  0]\n",
      " [ 0  0  0 -1 -4 -1  3 12  3]\n",
      " [-2 -4 -1  0  0  0  6 12  3]\n",
      " [ 0  0  0 -2 -4 -1  6 12  3]\n",
      " [-3  0 -1  0  0  0  9  0  3]\n",
      " [ 0  0  0 -3  0 -1  0  0  0]\n",
      " [ 0  0  0  0  0  0  0  0  1]]\n"
     ]
    }
   ],
   "source": [
    "# trying somethine else\n",
    "P = np.mat([[-a1.x,-a1.y,-1,0,0,0, a1.x*b1.x, a1.y*b1.x, b1.x],\n",
    "            [0,0,0,-a1.x,-a1.y,-1, a1.x*b1.y, a1.y*b1.y, b1.y],\n",
    "            [-a2.x,-a2.y,-1,0,0,0, a2.x*b2.x, a2.y*b2.x, b2.x],\n",
    "            [0,0,0,-a2.x,-a2.y,-1, a2.x*b2.y, a2.y*b2.y, b2.y],\n",
    "            [-a3.x,-a3.y,-1,0,0,0, a3.x*b3.x, a3.y*b3.x, b3.x],\n",
    "            [0,0,0,-a3.x,-a3.y,-1, a3.x*b3.y, a3.y*b3.y, b3.y],\n",
    "            [-a4.x,-a4.y,-1,0,0,0, a4.x*b4.x, a4.y*b4.x, b4.x],\n",
    "            [0,0,0,-a4.x,-a4.y,-1, a4.x*b4.y, a4.y*b4.y, b4.y],\n",
    "            [0,0,0,0,0,0,0,0,1]\n",
    "            ])\n",
    "\n",
    "b = np.array([0,0,0,0,0,0,0,0,1])\n",
    "\n",
    "print(P)"
   ]
  },
  {
   "cell_type": "code",
   "execution_count": 138,
   "metadata": {},
   "outputs": [
    {
     "name": "stdout",
     "output_type": "stream",
     "text": [
      "(3, 3) (3, 1)\n",
      "[[3.]\n",
      " [3.]\n",
      " [1.]]\n",
      "[[ 1.00000000e+00 -2.50000000e-01  1.52259158e-15]\n",
      " [ 7.61295788e-16  2.50000000e-01 -1.26439903e-15]\n",
      " [ 8.68075616e-17 -1.66666667e-01  1.00000000e+00]]\n"
     ]
    }
   ],
   "source": [
    "# assume A = P\n",
    "# (A^T * A)^-1\n",
    "C = np.linalg.inv(np.matmul(np.transpose(P),P))\n",
    "# (A^T * A)^-1 * A^T\n",
    "C = np.matmul(C,np.transpose(P))\n",
    "H = np.matmul(C,b)\n",
    "\n",
    "H = np.reshape(H,(3,3))\n",
    "\n",
    "x = np.mat([2,4,1]).reshape((3,1))\n",
    "\n",
    "print(H.shape,x.shape)\n",
    "\n",
    "result = np.matmul(H,x)\n",
    "\n",
    "result = result/result[2]\n",
    "\n",
    "\n",
    "print(result)\n",
    "print(H)\n",
    "\n"
   ]
  },
  {
   "cell_type": "markdown",
   "metadata": {},
   "source": [
    "# Strat 4"
   ]
  },
  {
   "cell_type": "code",
   "execution_count": 121,
   "metadata": {},
   "outputs": [
    {
     "name": "stdout",
     "output_type": "stream",
     "text": [
      "Check file path\n"
     ]
    },
    {
     "ename": "error",
     "evalue": "OpenCV(4.5.5) /Users/runner/work/opencv-python/opencv-python/opencv/modules/highgui/src/window.cpp:1000: error: (-215:Assertion failed) size.width>0 && size.height>0 in function 'imshow'\n",
     "output_type": "error",
     "traceback": [
      "\u001b[0;31m---------------------------------------------------------------------------\u001b[0m",
      "\u001b[0;31merror\u001b[0m                                     Traceback (most recent call last)",
      "\u001b[0;32m<ipython-input-121-06b1183d84b6>\u001b[0m in \u001b[0;36m<module>\u001b[0;34m\u001b[0m\n\u001b[1;32m      5\u001b[0m \u001b[0;32mif\u001b[0m \u001b[0mimg\u001b[0m \u001b[0;32mis\u001b[0m \u001b[0;32mNone\u001b[0m\u001b[0;34m:\u001b[0m\u001b[0;34m\u001b[0m\u001b[0;34m\u001b[0m\u001b[0m\n\u001b[1;32m      6\u001b[0m     \u001b[0mprint\u001b[0m\u001b[0;34m(\u001b[0m\u001b[0;34m\"Check file path\"\u001b[0m\u001b[0;34m)\u001b[0m\u001b[0;34m\u001b[0m\u001b[0;34m\u001b[0m\u001b[0m\n\u001b[0;32m----> 7\u001b[0;31m \u001b[0mcv2\u001b[0m\u001b[0;34m.\u001b[0m\u001b[0mimshow\u001b[0m\u001b[0;34m(\u001b[0m\u001b[0;34m\"HYPE IMAGE\"\u001b[0m\u001b[0;34m,\u001b[0m \u001b[0mimg\u001b[0m\u001b[0;34m)\u001b[0m\u001b[0;34m\u001b[0m\u001b[0;34m\u001b[0m\u001b[0m\n\u001b[0m\u001b[1;32m      8\u001b[0m \u001b[0mcv\u001b[0m\u001b[0;34m.\u001b[0m\u001b[0mwaitKey\u001b[0m\u001b[0;34m(\u001b[0m\u001b[0;36m0\u001b[0m\u001b[0;34m)\u001b[0m\u001b[0;34m\u001b[0m\u001b[0;34m\u001b[0m\u001b[0m\n\u001b[1;32m      9\u001b[0m \u001b[0mcv\u001b[0m\u001b[0;34m.\u001b[0m\u001b[0mdestroyAllWindows\u001b[0m\u001b[0;34m(\u001b[0m\u001b[0;34m)\u001b[0m\u001b[0;34m\u001b[0m\u001b[0;34m\u001b[0m\u001b[0m\n",
      "\u001b[0;31merror\u001b[0m: OpenCV(4.5.5) /Users/runner/work/opencv-python/opencv-python/opencv/modules/highgui/src/window.cpp:1000: error: (-215:Assertion failed) size.width>0 && size.height>0 in function 'imshow'\n"
     ]
    }
   ],
   "source": [
    "import cv2\n",
    "import numpy as np\n",
    "import matplotlib.pyplot as plt\n",
    "img = cv2.imread(os.path.expanduser( \"./card.jpg\"), 0)\n",
    "if img is None:\n",
    "    print(\"Check file path\")\n",
    "cv2.imshow(\"HYPE IMAGE\", img)\n",
    "cv.waitKey(0)\n",
    "cv.destroyAllWindows()"
   ]
  },
  {
   "cell_type": "code",
   "execution_count": 127,
   "metadata": {},
   "outputs": [
    {
     "data": {
      "text/plain": [
       "(1080, 1920, 3)"
      ]
     },
     "execution_count": 127,
     "metadata": {},
     "output_type": "execute_result"
    }
   ],
   "source": [
    "import cv2\n",
    "\n",
    "# path\n",
    "path = 'john.png'\n",
    "\n",
    "# Using cv2.imread() method\n",
    "img = cv2.imread(path)\n",
    "\n",
    "\n",
    "\n",
    "\n",
    "# Displaying the image\n",
    "img.shape"
   ]
  },
  {
   "cell_type": "markdown",
   "metadata": {},
   "source": [
    "# Testing"
   ]
  },
  {
   "cell_type": "code",
   "execution_count": 130,
   "metadata": {},
   "outputs": [
    {
     "name": "stdout",
     "output_type": "stream",
     "text": [
      "H:  [[-4.41994476e-14  4.82931304e-15  4.61573003e-12]\n",
      " [-6.20578379e-02 -8.81221298e-01  1.00000000e+02]\n",
      " [-6.20578379e-04 -8.81221298e-03  1.00000000e+00]]\n"
     ]
    }
   ],
   "source": [
    "import cv2\n",
    "from homography_estimation import Transform, Point\n",
    "\n",
    "t = Transform()\n",
    "\n",
    "path = \"./qr_code.png\"\n",
    "\n",
    "\n",
    "t.load_image(path)\n",
    "\n",
    "# create transform point\n",
    "\n",
    "t.add_points([Point(92,107), Point(120,81), Point(163,102), Point(137,136)], [Point(0,0), Point(0,100), Point(100,100), Point(0,100)])\n",
    "\n",
    "#t.transform_image()\n",
    "\n",
    "#t.display_transform()\n",
    "#t.display_image()"
   ]
  },
  {
   "cell_type": "code",
   "execution_count": 141,
   "metadata": {},
   "outputs": [
    {
     "name": "stdout",
     "output_type": "stream",
     "text": [
      "H:  [[ 1.00000000e+00 -2.50000000e-01  1.52259158e-15]\n",
      " [ 7.61295788e-16  2.50000000e-01 -1.26439903e-15]\n",
      " [ 8.68075616e-17 -1.66666667e-01  1.00000000e+00]]\n"
     ]
    }
   ],
   "source": [
    "a1 = Point(0,0)\n",
    "a2 = Point(1,4)\n",
    "a3 = Point(2,4)\n",
    "a4 = Point(3,0)\n",
    "\n",
    "b1 = Point(0,0)\n",
    "b2 = Point(0,3)\n",
    "b3 = Point(3,3)\n",
    "b4 = Point(3,0)\n",
    "\n",
    "t.add_points([Point(0,0), Point(1,4), Point(2,4), Point(3,0)], [Point(0,0), Point(0,3), Point(3,3), Point(3,0)])"
   ]
  },
  {
   "cell_type": "code",
   "execution_count": null,
   "metadata": {},
   "outputs": [],
   "source": []
  }
 ],
 "metadata": {
  "interpreter": {
   "hash": "aee8b7b246df8f9039afb4144a1f6fd8d2ca17a180786b69acc140d282b71a49"
  },
  "kernelspec": {
   "display_name": "Python 3.9.9 64-bit",
   "language": "python",
   "name": "python3"
  },
  "language_info": {
   "codemirror_mode": {
    "name": "ipython",
    "version": 3
   },
   "file_extension": ".py",
   "mimetype": "text/x-python",
   "name": "python",
   "nbconvert_exporter": "python",
   "pygments_lexer": "ipython3",
   "version": "3.9.9"
  },
  "orig_nbformat": 4
 },
 "nbformat": 4,
 "nbformat_minor": 2
}
